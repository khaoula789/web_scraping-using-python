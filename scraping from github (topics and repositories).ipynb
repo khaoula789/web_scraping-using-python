{
 "cells": [
  {
   "cell_type": "markdown",
   "id": "52aa4879",
   "metadata": {},
   "source": [
    "# The purpose of this project is to collect data from two web pages on the github site. The first web page is the page that contains different github topics. The second one contains different repositories of a specific topic of our choice \" covid19 topic\""
   ]
  },
  {
   "cell_type": "code",
   "execution_count": 1,
   "id": "b9a2205e",
   "metadata": {},
   "outputs": [
    {
     "name": "stdout",
     "output_type": "stream",
     "text": [
      "Requirement already satisfied: requests in c:\\users\\hp\\anaconda3\\lib\\site-packages (2.28.1)\n",
      "Requirement already satisfied: urllib3<1.27,>=1.21.1 in c:\\users\\hp\\anaconda3\\lib\\site-packages (from requests) (1.26.7)\n",
      "Requirement already satisfied: charset-normalizer<3,>=2 in c:\\users\\hp\\anaconda3\\lib\\site-packages (from requests) (2.0.4)\n",
      "Requirement already satisfied: certifi>=2017.4.17 in c:\\users\\hp\\anaconda3\\lib\\site-packages (from requests) (2021.10.8)\n",
      "Requirement already satisfied: idna<4,>=2.5 in c:\\users\\hp\\anaconda3\\lib\\site-packages (from requests) (3.2)\n"
     ]
    }
   ],
   "source": [
    "##first we will install requests library\n",
    "## requests is a library that helps download files from the web in order to collect useful data from it. \n",
    "!pip install requests"
   ]
  },
  {
   "cell_type": "code",
   "execution_count": 2,
   "id": "ed97dcba",
   "metadata": {},
   "outputs": [],
   "source": [
    "import requests"
   ]
  },
  {
   "cell_type": "code",
   "execution_count": 3,
   "id": "ed864ad6",
   "metadata": {},
   "outputs": [],
   "source": [
    "##  get() method is used to indicate that we are requesting the contents of our selected URL from the server.\n",
    "## This line of code sends an HTTP GET request to github's topic page via  get() method where the URL is provided as the argument and the response object is stored in the ‘r’ variable.\n",
    "r = requests.get(\"https://github.com/topics\")"
   ]
  },
  {
   "cell_type": "code",
   "execution_count": 5,
   "id": "547317fc",
   "metadata": {},
   "outputs": [
    {
     "data": {
      "text/plain": [
       "200"
      ]
     },
     "execution_count": 5,
     "metadata": {},
     "output_type": "execute_result"
    }
   ],
   "source": [
    "r.status_code\n",
    "#The output provides the status code for the url. 200 means successful"
   ]
  },
  {
   "cell_type": "code",
   "execution_count": 6,
   "id": "0056278d",
   "metadata": {},
   "outputs": [
    {
     "name": "stdout",
     "output_type": "stream",
     "text": [
      "Requirement already satisfied: beautifulsoup4 in c:\\users\\hp\\anaconda3\\lib\\site-packages (4.11.1)\n",
      "Requirement already satisfied: soupsieve>1.2 in c:\\users\\hp\\anaconda3\\lib\\site-packages (from beautifulsoup4) (2.2.1)\n"
     ]
    }
   ],
   "source": [
    "##now we will install Beautiful Soup\n",
    "##Beautiful Soup is a Python package for parsing HTML documents to extract data.\n",
    "!pip install beautifulsoup4"
   ]
  },
  {
   "cell_type": "code",
   "execution_count": 8,
   "id": "ed13c12d",
   "metadata": {},
   "outputs": [],
   "source": [
    "from bs4 import BeautifulSoup\n"
   ]
  },
  {
   "cell_type": "code",
   "execution_count": 11,
   "id": "a64e9681",
   "metadata": {},
   "outputs": [],
   "source": [
    "## before navigating our website and extracting data.The HTML file \"r.text\" needs to be prepared. This is done by passing the file to the BeautifulSoup constructor.\n",
    "soup = BeautifulSoup(r.text, 'html.parser')"
   ]
  },
  {
   "cell_type": "code",
   "execution_count": 12,
   "id": "80302040",
   "metadata": {},
   "outputs": [],
   "source": [
    "##The find_all() method takes an HTML tag as a string argument and returns the list of elements that match with the provided tag\n",
    "##In our case, we will search for all p tags that have the \"class1\" class,because these tags contain titles of all topics.\n",
    "class1 =\"f3 lh-condensed mb-0 mt-1 Link--primary\"\n",
    "topics_title = soup.find_all('p', {'class': class1})"
   ]
  },
  {
   "cell_type": "code",
   "execution_count": 13,
   "id": "b51c126f",
   "metadata": {},
   "outputs": [
    {
     "name": "stdout",
     "output_type": "stream",
     "text": [
      "30\n"
     ]
    },
    {
     "data": {
      "text/plain": [
       "[<p class=\"f3 lh-condensed mb-0 mt-1 Link--primary\">3D</p>,\n",
       " <p class=\"f3 lh-condensed mb-0 mt-1 Link--primary\">Ajax</p>,\n",
       " <p class=\"f3 lh-condensed mb-0 mt-1 Link--primary\">Algorithm</p>,\n",
       " <p class=\"f3 lh-condensed mb-0 mt-1 Link--primary\">Amp</p>,\n",
       " <p class=\"f3 lh-condensed mb-0 mt-1 Link--primary\">Android</p>,\n",
       " <p class=\"f3 lh-condensed mb-0 mt-1 Link--primary\">Angular</p>,\n",
       " <p class=\"f3 lh-condensed mb-0 mt-1 Link--primary\">Ansible</p>,\n",
       " <p class=\"f3 lh-condensed mb-0 mt-1 Link--primary\">API</p>,\n",
       " <p class=\"f3 lh-condensed mb-0 mt-1 Link--primary\">Arduino</p>,\n",
       " <p class=\"f3 lh-condensed mb-0 mt-1 Link--primary\">ASP.NET</p>,\n",
       " <p class=\"f3 lh-condensed mb-0 mt-1 Link--primary\">Atom</p>,\n",
       " <p class=\"f3 lh-condensed mb-0 mt-1 Link--primary\">Awesome Lists</p>,\n",
       " <p class=\"f3 lh-condensed mb-0 mt-1 Link--primary\">Amazon Web Services</p>,\n",
       " <p class=\"f3 lh-condensed mb-0 mt-1 Link--primary\">Azure</p>,\n",
       " <p class=\"f3 lh-condensed mb-0 mt-1 Link--primary\">Babel</p>,\n",
       " <p class=\"f3 lh-condensed mb-0 mt-1 Link--primary\">Bash</p>,\n",
       " <p class=\"f3 lh-condensed mb-0 mt-1 Link--primary\">Bitcoin</p>,\n",
       " <p class=\"f3 lh-condensed mb-0 mt-1 Link--primary\">Bootstrap</p>,\n",
       " <p class=\"f3 lh-condensed mb-0 mt-1 Link--primary\">Bot</p>,\n",
       " <p class=\"f3 lh-condensed mb-0 mt-1 Link--primary\">C</p>,\n",
       " <p class=\"f3 lh-condensed mb-0 mt-1 Link--primary\">Chrome</p>,\n",
       " <p class=\"f3 lh-condensed mb-0 mt-1 Link--primary\">Chrome extension</p>,\n",
       " <p class=\"f3 lh-condensed mb-0 mt-1 Link--primary\">Command line interface</p>,\n",
       " <p class=\"f3 lh-condensed mb-0 mt-1 Link--primary\">Clojure</p>,\n",
       " <p class=\"f3 lh-condensed mb-0 mt-1 Link--primary\">Code quality</p>,\n",
       " <p class=\"f3 lh-condensed mb-0 mt-1 Link--primary\">Code review</p>,\n",
       " <p class=\"f3 lh-condensed mb-0 mt-1 Link--primary\">Compiler</p>,\n",
       " <p class=\"f3 lh-condensed mb-0 mt-1 Link--primary\">Continuous integration</p>,\n",
       " <p class=\"f3 lh-condensed mb-0 mt-1 Link--primary\">COVID-19</p>,\n",
       " <p class=\"f3 lh-condensed mb-0 mt-1 Link--primary\">C++</p>]"
      ]
     },
     "execution_count": 13,
     "metadata": {},
     "output_type": "execute_result"
    }
   ],
   "source": [
    "## As a result, the webpage contains 30 topics.\n",
    "print(len(topics_title))\n",
    "topics_title"
   ]
  },
  {
   "cell_type": "code",
   "execution_count": 14,
   "id": "e768c7ba",
   "metadata": {},
   "outputs": [],
   "source": [
    "## In the same way, we will search for all p tags that have the \"class2\" class,because these tags contain descriptions provided for every topic.\n",
    "class2 =\"f5 color-fg-muted mb-0 mt-1\"\n",
    "topics_description = soup.find_all('p', {'class': class2})"
   ]
  },
  {
   "cell_type": "code",
   "execution_count": 15,
   "id": "bf7cce2a",
   "metadata": {},
   "outputs": [
    {
     "name": "stdout",
     "output_type": "stream",
     "text": [
      "30\n"
     ]
    },
    {
     "data": {
      "text/plain": [
       "[<p class=\"f5 color-fg-muted mb-0 mt-1\">\n",
       "           3D modeling is the process of virtually developing the surface and structure of a 3D object.\n",
       "         </p>,\n",
       " <p class=\"f5 color-fg-muted mb-0 mt-1\">\n",
       "           Ajax is a technique for creating interactive web applications.\n",
       "         </p>,\n",
       " <p class=\"f5 color-fg-muted mb-0 mt-1\">\n",
       "           Algorithms are self-contained sequences that carry out a variety of tasks.\n",
       "         </p>,\n",
       " <p class=\"f5 color-fg-muted mb-0 mt-1\">\n",
       "           Amp is a non-blocking concurrency library for PHP.\n",
       "         </p>,\n",
       " <p class=\"f5 color-fg-muted mb-0 mt-1\">\n",
       "           Android is an operating system built by Google designed for mobile devices.\n",
       "         </p>,\n",
       " <p class=\"f5 color-fg-muted mb-0 mt-1\">\n",
       "           Angular is an open source web application platform.\n",
       "         </p>,\n",
       " <p class=\"f5 color-fg-muted mb-0 mt-1\">\n",
       "           Ansible is a simple and powerful automation engine.\n",
       "         </p>,\n",
       " <p class=\"f5 color-fg-muted mb-0 mt-1\">\n",
       "           An API (Application Programming Interface) is a collection of protocols and subroutines for building software.\n",
       "         </p>,\n",
       " <p class=\"f5 color-fg-muted mb-0 mt-1\">\n",
       "           Arduino is an open source hardware and software company and maker community.\n",
       "         </p>,\n",
       " <p class=\"f5 color-fg-muted mb-0 mt-1\">\n",
       "           ASP.NET is a web framework for building modern web apps and services.\n",
       "         </p>,\n",
       " <p class=\"f5 color-fg-muted mb-0 mt-1\">\n",
       "           Atom is a open source text editor built with web technologies.\n",
       "         </p>,\n",
       " <p class=\"f5 color-fg-muted mb-0 mt-1\">\n",
       "           An awesome list is a list of awesome things curated by the community.\n",
       "         </p>,\n",
       " <p class=\"f5 color-fg-muted mb-0 mt-1\">\n",
       "           Amazon Web Services provides on-demand cloud computing platforms on a subscription basis.\n",
       "         </p>,\n",
       " <p class=\"f5 color-fg-muted mb-0 mt-1\">\n",
       "           Azure is a cloud computing service created by Microsoft.\n",
       "         </p>,\n",
       " <p class=\"f5 color-fg-muted mb-0 mt-1\">\n",
       "           Babel is a compiler for writing next generation JavaScript, today.\n",
       "         </p>,\n",
       " <p class=\"f5 color-fg-muted mb-0 mt-1\">\n",
       "           Bash is a shell and command language interpreter for the GNU operating system.\n",
       "         </p>,\n",
       " <p class=\"f5 color-fg-muted mb-0 mt-1\">\n",
       "           Bitcoin is a cryptocurrency developed by Satoshi Nakamoto.\n",
       "         </p>,\n",
       " <p class=\"f5 color-fg-muted mb-0 mt-1\">\n",
       "           Bootstrap is an HTML, CSS, and JavaScript framework.\n",
       "         </p>,\n",
       " <p class=\"f5 color-fg-muted mb-0 mt-1\">\n",
       "           A bot is an application that runs automated tasks over the Internet.\n",
       "         </p>,\n",
       " <p class=\"f5 color-fg-muted mb-0 mt-1\">\n",
       "           C is a general purpose programming language that first appeared in 1972.\n",
       "         </p>,\n",
       " <p class=\"f5 color-fg-muted mb-0 mt-1\">\n",
       "           Chrome is a web browser from the tech company Google.\n",
       "         </p>,\n",
       " <p class=\"f5 color-fg-muted mb-0 mt-1\">\n",
       "           Chrome extensions enable users to customize the Chrome browsing experience.\n",
       "         </p>,\n",
       " <p class=\"f5 color-fg-muted mb-0 mt-1\">\n",
       "           A CLI, or command-line interface, is a console that helps users issue commands to a program.\n",
       "         </p>,\n",
       " <p class=\"f5 color-fg-muted mb-0 mt-1\">\n",
       "           Clojure is a dynamic, general-purpose programming language.\n",
       "         </p>,\n",
       " <p class=\"f5 color-fg-muted mb-0 mt-1\">\n",
       "           Automate your code review with style, quality, security, and test‑coverage checks when you need them.\n",
       "         </p>,\n",
       " <p class=\"f5 color-fg-muted mb-0 mt-1\">\n",
       "           Ensure your code meets quality standards and ship with confidence.\n",
       "         </p>,\n",
       " <p class=\"f5 color-fg-muted mb-0 mt-1\">\n",
       "           Compilers are software that translate higher-level programming languages to lower-level languages (e.g. machine code).\n",
       "         </p>,\n",
       " <p class=\"f5 color-fg-muted mb-0 mt-1\">\n",
       "           Automatically build and test your code as you push it upstream, preventing bugs from being deployed to production.\n",
       "         </p>,\n",
       " <p class=\"f5 color-fg-muted mb-0 mt-1\">\n",
       "           The coronavirus disease 2019 (COVID-19) is an infectious disease caused by SARS-CoV-2.\n",
       "         </p>,\n",
       " <p class=\"f5 color-fg-muted mb-0 mt-1\">\n",
       "           C++ is a general purpose and object-oriented programming language.\n",
       "         </p>]"
      ]
     },
     "execution_count": 15,
     "metadata": {},
     "output_type": "execute_result"
    }
   ],
   "source": [
    "print(len(topics_description))\n",
    "topics_description"
   ]
  },
  {
   "cell_type": "code",
   "execution_count": 16,
   "id": "6c754ee1",
   "metadata": {},
   "outputs": [],
   "source": [
    "#### in the same way we will search for all a tags that have the \"class3\" class,because these tags contain urls of all topics.\n",
    "class3 =\"no-underline flex-1 d-flex flex-column\"\n",
    "topics_url = soup.find_all('a', {'class': class3})"
   ]
  },
  {
   "cell_type": "code",
   "execution_count": 17,
   "id": "4eac0dac",
   "metadata": {},
   "outputs": [
    {
     "name": "stdout",
     "output_type": "stream",
     "text": [
      "30\n"
     ]
    },
    {
     "data": {
      "text/plain": [
       "[<a class=\"no-underline flex-1 d-flex flex-column\" href=\"/topics/3d\">\n",
       " <p class=\"f3 lh-condensed mb-0 mt-1 Link--primary\">3D</p>\n",
       " <p class=\"f5 color-fg-muted mb-0 mt-1\">\n",
       "           3D modeling is the process of virtually developing the surface and structure of a 3D object.\n",
       "         </p>\n",
       " </a>,\n",
       " <a class=\"no-underline flex-1 d-flex flex-column\" href=\"/topics/ajax\">\n",
       " <p class=\"f3 lh-condensed mb-0 mt-1 Link--primary\">Ajax</p>\n",
       " <p class=\"f5 color-fg-muted mb-0 mt-1\">\n",
       "           Ajax is a technique for creating interactive web applications.\n",
       "         </p>\n",
       " </a>,\n",
       " <a class=\"no-underline flex-1 d-flex flex-column\" href=\"/topics/algorithm\">\n",
       " <p class=\"f3 lh-condensed mb-0 mt-1 Link--primary\">Algorithm</p>\n",
       " <p class=\"f5 color-fg-muted mb-0 mt-1\">\n",
       "           Algorithms are self-contained sequences that carry out a variety of tasks.\n",
       "         </p>\n",
       " </a>,\n",
       " <a class=\"no-underline flex-1 d-flex flex-column\" href=\"/topics/amphp\">\n",
       " <p class=\"f3 lh-condensed mb-0 mt-1 Link--primary\">Amp</p>\n",
       " <p class=\"f5 color-fg-muted mb-0 mt-1\">\n",
       "           Amp is a non-blocking concurrency library for PHP.\n",
       "         </p>\n",
       " </a>,\n",
       " <a class=\"no-underline flex-1 d-flex flex-column\" href=\"/topics/android\">\n",
       " <p class=\"f3 lh-condensed mb-0 mt-1 Link--primary\">Android</p>\n",
       " <p class=\"f5 color-fg-muted mb-0 mt-1\">\n",
       "           Android is an operating system built by Google designed for mobile devices.\n",
       "         </p>\n",
       " </a>,\n",
       " <a class=\"no-underline flex-1 d-flex flex-column\" href=\"/topics/angular\">\n",
       " <p class=\"f3 lh-condensed mb-0 mt-1 Link--primary\">Angular</p>\n",
       " <p class=\"f5 color-fg-muted mb-0 mt-1\">\n",
       "           Angular is an open source web application platform.\n",
       "         </p>\n",
       " </a>,\n",
       " <a class=\"no-underline flex-1 d-flex flex-column\" href=\"/topics/ansible\">\n",
       " <p class=\"f3 lh-condensed mb-0 mt-1 Link--primary\">Ansible</p>\n",
       " <p class=\"f5 color-fg-muted mb-0 mt-1\">\n",
       "           Ansible is a simple and powerful automation engine.\n",
       "         </p>\n",
       " </a>,\n",
       " <a class=\"no-underline flex-1 d-flex flex-column\" href=\"/topics/api\">\n",
       " <p class=\"f3 lh-condensed mb-0 mt-1 Link--primary\">API</p>\n",
       " <p class=\"f5 color-fg-muted mb-0 mt-1\">\n",
       "           An API (Application Programming Interface) is a collection of protocols and subroutines for building software.\n",
       "         </p>\n",
       " </a>,\n",
       " <a class=\"no-underline flex-1 d-flex flex-column\" href=\"/topics/arduino\">\n",
       " <p class=\"f3 lh-condensed mb-0 mt-1 Link--primary\">Arduino</p>\n",
       " <p class=\"f5 color-fg-muted mb-0 mt-1\">\n",
       "           Arduino is an open source hardware and software company and maker community.\n",
       "         </p>\n",
       " </a>,\n",
       " <a class=\"no-underline flex-1 d-flex flex-column\" href=\"/topics/aspnet\">\n",
       " <p class=\"f3 lh-condensed mb-0 mt-1 Link--primary\">ASP.NET</p>\n",
       " <p class=\"f5 color-fg-muted mb-0 mt-1\">\n",
       "           ASP.NET is a web framework for building modern web apps and services.\n",
       "         </p>\n",
       " </a>,\n",
       " <a class=\"no-underline flex-1 d-flex flex-column\" href=\"/topics/atom\">\n",
       " <p class=\"f3 lh-condensed mb-0 mt-1 Link--primary\">Atom</p>\n",
       " <p class=\"f5 color-fg-muted mb-0 mt-1\">\n",
       "           Atom is a open source text editor built with web technologies.\n",
       "         </p>\n",
       " </a>,\n",
       " <a class=\"no-underline flex-1 d-flex flex-column\" href=\"/topics/awesome\">\n",
       " <p class=\"f3 lh-condensed mb-0 mt-1 Link--primary\">Awesome Lists</p>\n",
       " <p class=\"f5 color-fg-muted mb-0 mt-1\">\n",
       "           An awesome list is a list of awesome things curated by the community.\n",
       "         </p>\n",
       " </a>,\n",
       " <a class=\"no-underline flex-1 d-flex flex-column\" href=\"/topics/aws\">\n",
       " <p class=\"f3 lh-condensed mb-0 mt-1 Link--primary\">Amazon Web Services</p>\n",
       " <p class=\"f5 color-fg-muted mb-0 mt-1\">\n",
       "           Amazon Web Services provides on-demand cloud computing platforms on a subscription basis.\n",
       "         </p>\n",
       " </a>,\n",
       " <a class=\"no-underline flex-1 d-flex flex-column\" href=\"/topics/azure\">\n",
       " <p class=\"f3 lh-condensed mb-0 mt-1 Link--primary\">Azure</p>\n",
       " <p class=\"f5 color-fg-muted mb-0 mt-1\">\n",
       "           Azure is a cloud computing service created by Microsoft.\n",
       "         </p>\n",
       " </a>,\n",
       " <a class=\"no-underline flex-1 d-flex flex-column\" href=\"/topics/babel\">\n",
       " <p class=\"f3 lh-condensed mb-0 mt-1 Link--primary\">Babel</p>\n",
       " <p class=\"f5 color-fg-muted mb-0 mt-1\">\n",
       "           Babel is a compiler for writing next generation JavaScript, today.\n",
       "         </p>\n",
       " </a>,\n",
       " <a class=\"no-underline flex-1 d-flex flex-column\" href=\"/topics/bash\">\n",
       " <p class=\"f3 lh-condensed mb-0 mt-1 Link--primary\">Bash</p>\n",
       " <p class=\"f5 color-fg-muted mb-0 mt-1\">\n",
       "           Bash is a shell and command language interpreter for the GNU operating system.\n",
       "         </p>\n",
       " </a>,\n",
       " <a class=\"no-underline flex-1 d-flex flex-column\" href=\"/topics/bitcoin\">\n",
       " <p class=\"f3 lh-condensed mb-0 mt-1 Link--primary\">Bitcoin</p>\n",
       " <p class=\"f5 color-fg-muted mb-0 mt-1\">\n",
       "           Bitcoin is a cryptocurrency developed by Satoshi Nakamoto.\n",
       "         </p>\n",
       " </a>,\n",
       " <a class=\"no-underline flex-1 d-flex flex-column\" href=\"/topics/bootstrap\">\n",
       " <p class=\"f3 lh-condensed mb-0 mt-1 Link--primary\">Bootstrap</p>\n",
       " <p class=\"f5 color-fg-muted mb-0 mt-1\">\n",
       "           Bootstrap is an HTML, CSS, and JavaScript framework.\n",
       "         </p>\n",
       " </a>,\n",
       " <a class=\"no-underline flex-1 d-flex flex-column\" href=\"/topics/bot\">\n",
       " <p class=\"f3 lh-condensed mb-0 mt-1 Link--primary\">Bot</p>\n",
       " <p class=\"f5 color-fg-muted mb-0 mt-1\">\n",
       "           A bot is an application that runs automated tasks over the Internet.\n",
       "         </p>\n",
       " </a>,\n",
       " <a class=\"no-underline flex-1 d-flex flex-column\" href=\"/topics/c\">\n",
       " <p class=\"f3 lh-condensed mb-0 mt-1 Link--primary\">C</p>\n",
       " <p class=\"f5 color-fg-muted mb-0 mt-1\">\n",
       "           C is a general purpose programming language that first appeared in 1972.\n",
       "         </p>\n",
       " </a>,\n",
       " <a class=\"no-underline flex-1 d-flex flex-column\" href=\"/topics/chrome\">\n",
       " <p class=\"f3 lh-condensed mb-0 mt-1 Link--primary\">Chrome</p>\n",
       " <p class=\"f5 color-fg-muted mb-0 mt-1\">\n",
       "           Chrome is a web browser from the tech company Google.\n",
       "         </p>\n",
       " </a>,\n",
       " <a class=\"no-underline flex-1 d-flex flex-column\" href=\"/topics/chrome-extension\">\n",
       " <p class=\"f3 lh-condensed mb-0 mt-1 Link--primary\">Chrome extension</p>\n",
       " <p class=\"f5 color-fg-muted mb-0 mt-1\">\n",
       "           Chrome extensions enable users to customize the Chrome browsing experience.\n",
       "         </p>\n",
       " </a>,\n",
       " <a class=\"no-underline flex-1 d-flex flex-column\" href=\"/topics/cli\">\n",
       " <p class=\"f3 lh-condensed mb-0 mt-1 Link--primary\">Command line interface</p>\n",
       " <p class=\"f5 color-fg-muted mb-0 mt-1\">\n",
       "           A CLI, or command-line interface, is a console that helps users issue commands to a program.\n",
       "         </p>\n",
       " </a>,\n",
       " <a class=\"no-underline flex-1 d-flex flex-column\" href=\"/topics/clojure\">\n",
       " <p class=\"f3 lh-condensed mb-0 mt-1 Link--primary\">Clojure</p>\n",
       " <p class=\"f5 color-fg-muted mb-0 mt-1\">\n",
       "           Clojure is a dynamic, general-purpose programming language.\n",
       "         </p>\n",
       " </a>,\n",
       " <a class=\"no-underline flex-1 d-flex flex-column\" href=\"/topics/code-quality\">\n",
       " <p class=\"f3 lh-condensed mb-0 mt-1 Link--primary\">Code quality</p>\n",
       " <p class=\"f5 color-fg-muted mb-0 mt-1\">\n",
       "           Automate your code review with style, quality, security, and test‑coverage checks when you need them.\n",
       "         </p>\n",
       " </a>,\n",
       " <a class=\"no-underline flex-1 d-flex flex-column\" href=\"/topics/code-review\">\n",
       " <p class=\"f3 lh-condensed mb-0 mt-1 Link--primary\">Code review</p>\n",
       " <p class=\"f5 color-fg-muted mb-0 mt-1\">\n",
       "           Ensure your code meets quality standards and ship with confidence.\n",
       "         </p>\n",
       " </a>,\n",
       " <a class=\"no-underline flex-1 d-flex flex-column\" href=\"/topics/compiler\">\n",
       " <p class=\"f3 lh-condensed mb-0 mt-1 Link--primary\">Compiler</p>\n",
       " <p class=\"f5 color-fg-muted mb-0 mt-1\">\n",
       "           Compilers are software that translate higher-level programming languages to lower-level languages (e.g. machine code).\n",
       "         </p>\n",
       " </a>,\n",
       " <a class=\"no-underline flex-1 d-flex flex-column\" href=\"/topics/continuous-integration\">\n",
       " <p class=\"f3 lh-condensed mb-0 mt-1 Link--primary\">Continuous integration</p>\n",
       " <p class=\"f5 color-fg-muted mb-0 mt-1\">\n",
       "           Automatically build and test your code as you push it upstream, preventing bugs from being deployed to production.\n",
       "         </p>\n",
       " </a>,\n",
       " <a class=\"no-underline flex-1 d-flex flex-column\" href=\"/topics/covid-19\">\n",
       " <p class=\"f3 lh-condensed mb-0 mt-1 Link--primary\">COVID-19</p>\n",
       " <p class=\"f5 color-fg-muted mb-0 mt-1\">\n",
       "           The coronavirus disease 2019 (COVID-19) is an infectious disease caused by SARS-CoV-2.\n",
       "         </p>\n",
       " </a>,\n",
       " <a class=\"no-underline flex-1 d-flex flex-column\" href=\"/topics/cpp\">\n",
       " <p class=\"f3 lh-condensed mb-0 mt-1 Link--primary\">C++</p>\n",
       " <p class=\"f5 color-fg-muted mb-0 mt-1\">\n",
       "           C++ is a general purpose and object-oriented programming language.\n",
       "         </p>\n",
       " </a>]"
      ]
     },
     "execution_count": 17,
     "metadata": {},
     "output_type": "execute_result"
    }
   ],
   "source": [
    "print(len(topics_url))\n",
    "topics_url"
   ]
  },
  {
   "cell_type": "code",
   "execution_count": 19,
   "id": "e3ac1cfb",
   "metadata": {},
   "outputs": [
    {
     "name": "stdout",
     "output_type": "stream",
     "text": [
      "['3D', 'Ajax', 'Algorithm', 'Amp', 'Android', 'Angular', 'Ansible', 'API', 'Arduino', 'ASP.NET', 'Atom', 'Awesome Lists', 'Amazon Web Services', 'Azure', 'Babel', 'Bash', 'Bitcoin', 'Bootstrap', 'Bot', 'C', 'Chrome', 'Chrome extension', 'Command line interface', 'Clojure', 'Code quality', 'Code review', 'Compiler', 'Continuous integration', 'COVID-19', 'C++']\n"
     ]
    }
   ],
   "source": [
    "## we will create a list to regroup all topic titles\n",
    "titles = []\n",
    "for p in topics_title:\n",
    "    titles.append(p.text)\n",
    "    \n",
    "print(titles)"
   ]
  },
  {
   "cell_type": "code",
   "execution_count": 20,
   "id": "c4f1fd50",
   "metadata": {},
   "outputs": [
    {
     "name": "stdout",
     "output_type": "stream",
     "text": [
      "['3D modeling is the process of virtually developing the surface and structure of a 3D object.', 'Ajax is a technique for creating interactive web applications.', 'Algorithms are self-contained sequences that carry out a variety of tasks.', 'Amp is a non-blocking concurrency library for PHP.', 'Android is an operating system built by Google designed for mobile devices.', 'Angular is an open source web application platform.', 'Ansible is a simple and powerful automation engine.', 'An API (Application Programming Interface) is a collection of protocols and subroutines for building software.', 'Arduino is an open source hardware and software company and maker community.', 'ASP.NET is a web framework for building modern web apps and services.', 'Atom is a open source text editor built with web technologies.', 'An awesome list is a list of awesome things curated by the community.', 'Amazon Web Services provides on-demand cloud computing platforms on a subscription basis.', 'Azure is a cloud computing service created by Microsoft.', 'Babel is a compiler for writing next generation JavaScript, today.', 'Bash is a shell and command language interpreter for the GNU operating system.', 'Bitcoin is a cryptocurrency developed by Satoshi Nakamoto.', 'Bootstrap is an HTML, CSS, and JavaScript framework.', 'A bot is an application that runs automated tasks over the Internet.', 'C is a general purpose programming language that first appeared in 1972.', 'Chrome is a web browser from the tech company Google.', 'Chrome extensions enable users to customize the Chrome browsing experience.', 'A CLI, or command-line interface, is a console that helps users issue commands to a program.', 'Clojure is a dynamic, general-purpose programming language.', 'Automate your code review with style, quality, security, and test‑coverage checks when you need them.', 'Ensure your code meets quality standards and ship with confidence.', 'Compilers are software that translate higher-level programming languages to lower-level languages (e.g. machine code).', 'Automatically build and test your code as you push it upstream, preventing bugs from being deployed to production.', 'The coronavirus disease 2019 (COVID-19) is an infectious disease caused by SARS-CoV-2.', 'C++ is a general purpose and object-oriented programming language.']\n"
     ]
    }
   ],
   "source": [
    "descriptions = []\n",
    "for p in topics_description:\n",
    "    descriptions.append(p.text.strip())\n",
    "    \n",
    "print(descriptions)"
   ]
  },
  {
   "cell_type": "code",
   "execution_count": 21,
   "id": "14c71f69",
   "metadata": {},
   "outputs": [
    {
     "name": "stdout",
     "output_type": "stream",
     "text": [
      "['https://github.com/topics/3d', 'https://github.com/topics/ajax', 'https://github.com/topics/algorithm', 'https://github.com/topics/amphp', 'https://github.com/topics/android', 'https://github.com/topics/angular', 'https://github.com/topics/ansible', 'https://github.com/topics/api', 'https://github.com/topics/arduino', 'https://github.com/topics/aspnet', 'https://github.com/topics/atom', 'https://github.com/topics/awesome', 'https://github.com/topics/aws', 'https://github.com/topics/azure', 'https://github.com/topics/babel', 'https://github.com/topics/bash', 'https://github.com/topics/bitcoin', 'https://github.com/topics/bootstrap', 'https://github.com/topics/bot', 'https://github.com/topics/c', 'https://github.com/topics/chrome', 'https://github.com/topics/chrome-extension', 'https://github.com/topics/cli', 'https://github.com/topics/clojure', 'https://github.com/topics/code-quality', 'https://github.com/topics/code-review', 'https://github.com/topics/compiler', 'https://github.com/topics/continuous-integration', 'https://github.com/topics/covid-19', 'https://github.com/topics/cpp']\n"
     ]
    }
   ],
   "source": [
    "urls = []\n",
    "url = 'https://github.com'\n",
    "for a in topics_url:\n",
    "    urls.append(url+a['href'])\n",
    "print(urls)"
   ]
  },
  {
   "cell_type": "code",
   "execution_count": 23,
   "id": "1a7f2521",
   "metadata": {},
   "outputs": [],
   "source": [
    "##we will create a dictionary to regroup all information(title,description,url)\n",
    "topics_dictionnary = {\n",
    "    'title': titles,\n",
    "    'description':descriptions,\n",
    "    'url': urls\n",
    "}"
   ]
  },
  {
   "cell_type": "code",
   "execution_count": 24,
   "id": "3290bc2a",
   "metadata": {},
   "outputs": [],
   "source": [
    "import pandas as pd"
   ]
  },
  {
   "cell_type": "code",
   "execution_count": 26,
   "id": "32853073",
   "metadata": {},
   "outputs": [],
   "source": [
    "##we will Construct a DataFrame from the dictionary \"topics_dictionnary\"\n",
    "df = pd.DataFrame(topics_dictionnary)"
   ]
  },
  {
   "cell_type": "code",
   "execution_count": 27,
   "id": "30f6609b",
   "metadata": {},
   "outputs": [
    {
     "data": {
      "text/html": [
       "<div>\n",
       "<style scoped>\n",
       "    .dataframe tbody tr th:only-of-type {\n",
       "        vertical-align: middle;\n",
       "    }\n",
       "\n",
       "    .dataframe tbody tr th {\n",
       "        vertical-align: top;\n",
       "    }\n",
       "\n",
       "    .dataframe thead th {\n",
       "        text-align: right;\n",
       "    }\n",
       "</style>\n",
       "<table border=\"1\" class=\"dataframe\">\n",
       "  <thead>\n",
       "    <tr style=\"text-align: right;\">\n",
       "      <th></th>\n",
       "      <th>title</th>\n",
       "      <th>description</th>\n",
       "      <th>url</th>\n",
       "    </tr>\n",
       "  </thead>\n",
       "  <tbody>\n",
       "    <tr>\n",
       "      <th>0</th>\n",
       "      <td>3D</td>\n",
       "      <td>3D modeling is the process of virtually develo...</td>\n",
       "      <td>https://github.com/topics/3d</td>\n",
       "    </tr>\n",
       "    <tr>\n",
       "      <th>1</th>\n",
       "      <td>Ajax</td>\n",
       "      <td>Ajax is a technique for creating interactive w...</td>\n",
       "      <td>https://github.com/topics/ajax</td>\n",
       "    </tr>\n",
       "    <tr>\n",
       "      <th>2</th>\n",
       "      <td>Algorithm</td>\n",
       "      <td>Algorithms are self-contained sequences that c...</td>\n",
       "      <td>https://github.com/topics/algorithm</td>\n",
       "    </tr>\n",
       "    <tr>\n",
       "      <th>3</th>\n",
       "      <td>Amp</td>\n",
       "      <td>Amp is a non-blocking concurrency library for ...</td>\n",
       "      <td>https://github.com/topics/amphp</td>\n",
       "    </tr>\n",
       "    <tr>\n",
       "      <th>4</th>\n",
       "      <td>Android</td>\n",
       "      <td>Android is an operating system built by Google...</td>\n",
       "      <td>https://github.com/topics/android</td>\n",
       "    </tr>\n",
       "    <tr>\n",
       "      <th>5</th>\n",
       "      <td>Angular</td>\n",
       "      <td>Angular is an open source web application plat...</td>\n",
       "      <td>https://github.com/topics/angular</td>\n",
       "    </tr>\n",
       "    <tr>\n",
       "      <th>6</th>\n",
       "      <td>Ansible</td>\n",
       "      <td>Ansible is a simple and powerful automation en...</td>\n",
       "      <td>https://github.com/topics/ansible</td>\n",
       "    </tr>\n",
       "    <tr>\n",
       "      <th>7</th>\n",
       "      <td>API</td>\n",
       "      <td>An API (Application Programming Interface) is ...</td>\n",
       "      <td>https://github.com/topics/api</td>\n",
       "    </tr>\n",
       "    <tr>\n",
       "      <th>8</th>\n",
       "      <td>Arduino</td>\n",
       "      <td>Arduino is an open source hardware and softwar...</td>\n",
       "      <td>https://github.com/topics/arduino</td>\n",
       "    </tr>\n",
       "    <tr>\n",
       "      <th>9</th>\n",
       "      <td>ASP.NET</td>\n",
       "      <td>ASP.NET is a web framework for building modern...</td>\n",
       "      <td>https://github.com/topics/aspnet</td>\n",
       "    </tr>\n",
       "    <tr>\n",
       "      <th>10</th>\n",
       "      <td>Atom</td>\n",
       "      <td>Atom is a open source text editor built with w...</td>\n",
       "      <td>https://github.com/topics/atom</td>\n",
       "    </tr>\n",
       "    <tr>\n",
       "      <th>11</th>\n",
       "      <td>Awesome Lists</td>\n",
       "      <td>An awesome list is a list of awesome things cu...</td>\n",
       "      <td>https://github.com/topics/awesome</td>\n",
       "    </tr>\n",
       "    <tr>\n",
       "      <th>12</th>\n",
       "      <td>Amazon Web Services</td>\n",
       "      <td>Amazon Web Services provides on-demand cloud c...</td>\n",
       "      <td>https://github.com/topics/aws</td>\n",
       "    </tr>\n",
       "    <tr>\n",
       "      <th>13</th>\n",
       "      <td>Azure</td>\n",
       "      <td>Azure is a cloud computing service created by ...</td>\n",
       "      <td>https://github.com/topics/azure</td>\n",
       "    </tr>\n",
       "    <tr>\n",
       "      <th>14</th>\n",
       "      <td>Babel</td>\n",
       "      <td>Babel is a compiler for writing next generatio...</td>\n",
       "      <td>https://github.com/topics/babel</td>\n",
       "    </tr>\n",
       "    <tr>\n",
       "      <th>15</th>\n",
       "      <td>Bash</td>\n",
       "      <td>Bash is a shell and command language interpret...</td>\n",
       "      <td>https://github.com/topics/bash</td>\n",
       "    </tr>\n",
       "    <tr>\n",
       "      <th>16</th>\n",
       "      <td>Bitcoin</td>\n",
       "      <td>Bitcoin is a cryptocurrency developed by Satos...</td>\n",
       "      <td>https://github.com/topics/bitcoin</td>\n",
       "    </tr>\n",
       "    <tr>\n",
       "      <th>17</th>\n",
       "      <td>Bootstrap</td>\n",
       "      <td>Bootstrap is an HTML, CSS, and JavaScript fram...</td>\n",
       "      <td>https://github.com/topics/bootstrap</td>\n",
       "    </tr>\n",
       "    <tr>\n",
       "      <th>18</th>\n",
       "      <td>Bot</td>\n",
       "      <td>A bot is an application that runs automated ta...</td>\n",
       "      <td>https://github.com/topics/bot</td>\n",
       "    </tr>\n",
       "    <tr>\n",
       "      <th>19</th>\n",
       "      <td>C</td>\n",
       "      <td>C is a general purpose programming language th...</td>\n",
       "      <td>https://github.com/topics/c</td>\n",
       "    </tr>\n",
       "    <tr>\n",
       "      <th>20</th>\n",
       "      <td>Chrome</td>\n",
       "      <td>Chrome is a web browser from the tech company ...</td>\n",
       "      <td>https://github.com/topics/chrome</td>\n",
       "    </tr>\n",
       "    <tr>\n",
       "      <th>21</th>\n",
       "      <td>Chrome extension</td>\n",
       "      <td>Chrome extensions enable users to customize th...</td>\n",
       "      <td>https://github.com/topics/chrome-extension</td>\n",
       "    </tr>\n",
       "    <tr>\n",
       "      <th>22</th>\n",
       "      <td>Command line interface</td>\n",
       "      <td>A CLI, or command-line interface, is a console...</td>\n",
       "      <td>https://github.com/topics/cli</td>\n",
       "    </tr>\n",
       "    <tr>\n",
       "      <th>23</th>\n",
       "      <td>Clojure</td>\n",
       "      <td>Clojure is a dynamic, general-purpose programm...</td>\n",
       "      <td>https://github.com/topics/clojure</td>\n",
       "    </tr>\n",
       "    <tr>\n",
       "      <th>24</th>\n",
       "      <td>Code quality</td>\n",
       "      <td>Automate your code review with style, quality,...</td>\n",
       "      <td>https://github.com/topics/code-quality</td>\n",
       "    </tr>\n",
       "    <tr>\n",
       "      <th>25</th>\n",
       "      <td>Code review</td>\n",
       "      <td>Ensure your code meets quality standards and s...</td>\n",
       "      <td>https://github.com/topics/code-review</td>\n",
       "    </tr>\n",
       "    <tr>\n",
       "      <th>26</th>\n",
       "      <td>Compiler</td>\n",
       "      <td>Compilers are software that translate higher-l...</td>\n",
       "      <td>https://github.com/topics/compiler</td>\n",
       "    </tr>\n",
       "    <tr>\n",
       "      <th>27</th>\n",
       "      <td>Continuous integration</td>\n",
       "      <td>Automatically build and test your code as you ...</td>\n",
       "      <td>https://github.com/topics/continuous-integration</td>\n",
       "    </tr>\n",
       "    <tr>\n",
       "      <th>28</th>\n",
       "      <td>COVID-19</td>\n",
       "      <td>The coronavirus disease 2019 (COVID-19) is an ...</td>\n",
       "      <td>https://github.com/topics/covid-19</td>\n",
       "    </tr>\n",
       "    <tr>\n",
       "      <th>29</th>\n",
       "      <td>C++</td>\n",
       "      <td>C++ is a general purpose and object-oriented p...</td>\n",
       "      <td>https://github.com/topics/cpp</td>\n",
       "    </tr>\n",
       "  </tbody>\n",
       "</table>\n",
       "</div>"
      ],
      "text/plain": [
       "                     title                                        description  \\\n",
       "0                       3D  3D modeling is the process of virtually develo...   \n",
       "1                     Ajax  Ajax is a technique for creating interactive w...   \n",
       "2                Algorithm  Algorithms are self-contained sequences that c...   \n",
       "3                      Amp  Amp is a non-blocking concurrency library for ...   \n",
       "4                  Android  Android is an operating system built by Google...   \n",
       "5                  Angular  Angular is an open source web application plat...   \n",
       "6                  Ansible  Ansible is a simple and powerful automation en...   \n",
       "7                      API  An API (Application Programming Interface) is ...   \n",
       "8                  Arduino  Arduino is an open source hardware and softwar...   \n",
       "9                  ASP.NET  ASP.NET is a web framework for building modern...   \n",
       "10                    Atom  Atom is a open source text editor built with w...   \n",
       "11           Awesome Lists  An awesome list is a list of awesome things cu...   \n",
       "12     Amazon Web Services  Amazon Web Services provides on-demand cloud c...   \n",
       "13                   Azure  Azure is a cloud computing service created by ...   \n",
       "14                   Babel  Babel is a compiler for writing next generatio...   \n",
       "15                    Bash  Bash is a shell and command language interpret...   \n",
       "16                 Bitcoin  Bitcoin is a cryptocurrency developed by Satos...   \n",
       "17               Bootstrap  Bootstrap is an HTML, CSS, and JavaScript fram...   \n",
       "18                     Bot  A bot is an application that runs automated ta...   \n",
       "19                       C  C is a general purpose programming language th...   \n",
       "20                  Chrome  Chrome is a web browser from the tech company ...   \n",
       "21        Chrome extension  Chrome extensions enable users to customize th...   \n",
       "22  Command line interface  A CLI, or command-line interface, is a console...   \n",
       "23                 Clojure  Clojure is a dynamic, general-purpose programm...   \n",
       "24            Code quality  Automate your code review with style, quality,...   \n",
       "25             Code review  Ensure your code meets quality standards and s...   \n",
       "26                Compiler  Compilers are software that translate higher-l...   \n",
       "27  Continuous integration  Automatically build and test your code as you ...   \n",
       "28                COVID-19  The coronavirus disease 2019 (COVID-19) is an ...   \n",
       "29                     C++  C++ is a general purpose and object-oriented p...   \n",
       "\n",
       "                                                 url  \n",
       "0                       https://github.com/topics/3d  \n",
       "1                     https://github.com/topics/ajax  \n",
       "2                https://github.com/topics/algorithm  \n",
       "3                    https://github.com/topics/amphp  \n",
       "4                  https://github.com/topics/android  \n",
       "5                  https://github.com/topics/angular  \n",
       "6                  https://github.com/topics/ansible  \n",
       "7                      https://github.com/topics/api  \n",
       "8                  https://github.com/topics/arduino  \n",
       "9                   https://github.com/topics/aspnet  \n",
       "10                    https://github.com/topics/atom  \n",
       "11                 https://github.com/topics/awesome  \n",
       "12                     https://github.com/topics/aws  \n",
       "13                   https://github.com/topics/azure  \n",
       "14                   https://github.com/topics/babel  \n",
       "15                    https://github.com/topics/bash  \n",
       "16                 https://github.com/topics/bitcoin  \n",
       "17               https://github.com/topics/bootstrap  \n",
       "18                     https://github.com/topics/bot  \n",
       "19                       https://github.com/topics/c  \n",
       "20                  https://github.com/topics/chrome  \n",
       "21        https://github.com/topics/chrome-extension  \n",
       "22                     https://github.com/topics/cli  \n",
       "23                 https://github.com/topics/clojure  \n",
       "24            https://github.com/topics/code-quality  \n",
       "25             https://github.com/topics/code-review  \n",
       "26                https://github.com/topics/compiler  \n",
       "27  https://github.com/topics/continuous-integration  \n",
       "28                https://github.com/topics/covid-19  \n",
       "29                     https://github.com/topics/cpp  "
      ]
     },
     "execution_count": 27,
     "metadata": {},
     "output_type": "execute_result"
    }
   ],
   "source": [
    "df"
   ]
  },
  {
   "cell_type": "code",
   "execution_count": 28,
   "id": "54e64968",
   "metadata": {},
   "outputs": [],
   "source": [
    "##finnaly we will export our scraped data to a CSV file\n",
    "df.to_csv('Github_Topics.csv', index=None)"
   ]
  },
  {
   "cell_type": "markdown",
   "id": "4c8d1495",
   "metadata": {},
   "source": [
    "# now we will redo the same steps to scrape \"COVID-19\" topic page\n"
   ]
  },
  {
   "cell_type": "code",
   "execution_count": 29,
   "id": "e48434b8",
   "metadata": {},
   "outputs": [],
   "source": [
    "##we define the variable topic_url as the url of covid19 topic page\n",
    "topic_url = urls[28]"
   ]
  },
  {
   "cell_type": "code",
   "execution_count": 31,
   "id": "9e5e3bdb",
   "metadata": {},
   "outputs": [],
   "source": [
    "r = requests.get(topic_url)"
   ]
  },
  {
   "cell_type": "code",
   "execution_count": 32,
   "id": "4c119308",
   "metadata": {},
   "outputs": [
    {
     "data": {
      "text/plain": [
       "200"
      ]
     },
     "execution_count": 32,
     "metadata": {},
     "output_type": "execute_result"
    }
   ],
   "source": [
    "r.status_code"
   ]
  },
  {
   "cell_type": "code",
   "execution_count": 33,
   "id": "dc35502f",
   "metadata": {},
   "outputs": [],
   "source": [
    "soup = BeautifulSoup(r.text, 'html.parser')"
   ]
  },
  {
   "cell_type": "code",
   "execution_count": 35,
   "id": "bf8e26b0",
   "metadata": {},
   "outputs": [
    {
     "data": {
      "text/plain": [
       "20"
      ]
     },
     "execution_count": 35,
     "metadata": {},
     "output_type": "execute_result"
    }
   ],
   "source": [
    "## All h3 tags that have  \"class1\" class contain information about the repositories \"owner of repository ,number of stars ,repository name...\"\n",
    "##We will search for these tags using the find_all() method\n",
    "class1 =\"f3 color-fg-muted text-normal lh-condensed\"\n",
    "repo = soup.find_all('h3', {'class': class1} )\n",
    "## the covid 19 topic page contains 20 repositories\n",
    "len(repo)"
   ]
  },
  {
   "cell_type": "code",
   "execution_count": 36,
   "id": "6128f448",
   "metadata": {},
   "outputs": [
    {
     "data": {
      "text/plain": [
       "[<a data-hydro-click='{\"event_type\":\"explore.click\",\"payload\":{\"click_context\":\"REPOSITORY_CARD\",\"click_target\":\"OWNER\",\"click_visual_representation\":\"REPOSITORY_OWNER_HEADING\",\"actor_id\":null,\"record_id\":60674295,\"originating_url\":\"https://github.com/topics/covid-19\",\"user_id\":null}}' data-hydro-click-hmac=\"75c7c6681248794cfcc1d42d7a05f8127c46c04f18962eba0b8cc802aac2b49e\" data-turbo=\"false\" data-view-component=\"true\" href=\"/CSSEGISandData\">\n",
       "             CSSEGISandData\n",
       " </a>,\n",
       " <a class=\"text-bold wb-break-word\" data-hydro-click='{\"event_type\":\"explore.click\",\"payload\":{\"click_context\":\"REPOSITORY_CARD\",\"click_target\":\"REPOSITORY\",\"click_visual_representation\":\"REPOSITORY_NAME_HEADING\",\"actor_id\":null,\"record_id\":238316428,\"originating_url\":\"https://github.com/topics/covid-19\",\"user_id\":null}}' data-hydro-click-hmac=\"2af6b0a8e40f3fa3ad5989a551a8eab8f4670c83717f7db6508870462c0e4baa\" data-turbo=\"false\" data-view-component=\"true\" href=\"/CSSEGISandData/COVID-19\">\n",
       "             COVID-19\n",
       " </a>]"
      ]
     },
     "execution_count": 36,
     "metadata": {},
     "output_type": "execute_result"
    }
   ],
   "source": [
    "##first we will extract informations from the first repository\n",
    "## repo[0] is the first h3 tag of the list repo\n",
    "## a returns the list of all \"a\" tags contained inside repo[0]\n",
    "repo[0]\n",
    "a = repo[0].find_all('a')\n",
    "a"
   ]
  },
  {
   "cell_type": "code",
   "execution_count": 37,
   "id": "cc6f5203",
   "metadata": {},
   "outputs": [
    {
     "data": {
      "text/plain": [
       "'CSSEGISandData'"
      ]
     },
     "execution_count": 37,
     "metadata": {},
     "output_type": "execute_result"
    }
   ],
   "source": [
    "## the strip() function returns a copy of the first \"a\" tag of the list \"a\" with the leading and trailing characters removed in order to obtain only the name of the owner of the first repository \"username\"\n",
    "a[0].text.strip()"
   ]
  },
  {
   "cell_type": "code",
   "execution_count": 38,
   "id": "2dd7eeaf",
   "metadata": {},
   "outputs": [
    {
     "data": {
      "text/plain": [
       "'COVID-19'"
      ]
     },
     "execution_count": 38,
     "metadata": {},
     "output_type": "execute_result"
    }
   ],
   "source": [
    "## in the same way this line of code returns a copy of the second \"a\" tag of the list \"a\" with the leading and trailing characters removed in order to obtain the name of the first repository \"repository_name\"\n",
    "a[1].text.strip()"
   ]
  },
  {
   "cell_type": "code",
   "execution_count": 39,
   "id": "e8fa2aac",
   "metadata": {},
   "outputs": [
    {
     "data": {
      "text/plain": [
       "'https://github.com/CSSEGISandData/COVID-19'"
      ]
     },
     "execution_count": 39,
     "metadata": {},
     "output_type": "execute_result"
    }
   ],
   "source": [
    "##this line of code extract the url of the repository \n",
    "url = 'https://github.com'\n",
    "url + a[1]['href']\n"
   ]
  },
  {
   "cell_type": "code",
   "execution_count": 40,
   "id": "fc8a28ff",
   "metadata": {},
   "outputs": [
    {
     "data": {
      "text/plain": [
       "20"
      ]
     },
     "execution_count": 40,
     "metadata": {},
     "output_type": "execute_result"
    }
   ],
   "source": [
    "##we will search for all p tags that have the \"class1\" class,because these tags contain the description of repositories.\n",
    "class2 =\"px-3 pt-3\"\n",
    "description = soup.find_all('div', {'class': class2} )\n",
    "len(repo)"
   ]
  },
  {
   "cell_type": "code",
   "execution_count": 41,
   "id": "b164058f",
   "metadata": {},
   "outputs": [
    {
     "data": {
      "text/plain": [
       "'Novel Coronavirus (COVID-19) Cases, provided by JHU CSSE'"
      ]
     },
     "execution_count": 41,
     "metadata": {},
     "output_type": "execute_result"
    }
   ],
   "source": [
    "description[0].text.strip()"
   ]
  },
  {
   "cell_type": "code",
   "execution_count": 42,
   "id": "fa8d84f2",
   "metadata": {},
   "outputs": [],
   "source": [
    "## All span tags that have 'Counter js-social-count' class contains numbers of stars of repositories.\n",
    "##We will search for these tags using find_all() method\n",
    "star = soup.find_all('span', { 'class': 'Counter js-social-count'})"
   ]
  },
  {
   "cell_type": "code",
   "execution_count": 43,
   "id": "11df75e5",
   "metadata": {},
   "outputs": [
    {
     "data": {
      "text/plain": [
       "'29k'"
      ]
     },
     "execution_count": 43,
     "metadata": {},
     "output_type": "execute_result"
    }
   ],
   "source": [
    "## the strip() function returns a copy of the first span tag with the leading and trailing characters removed in order to obtain the number of stars of  the first repository \"stars\"\n",
    "star[0].text.strip()"
   ]
  },
  {
   "cell_type": "code",
   "execution_count": 44,
   "id": "d3f53a0f",
   "metadata": {},
   "outputs": [],
   "source": [
    "## this function replace k with three zeros in order to have a valid number for number of stars \n",
    "def star_count(str):\n",
    "    str = str.strip()\n",
    "    if str[-1] == 'k':\n",
    "        return int(float(str[:-1]) * 1000)\n",
    "    return int(str)"
   ]
  },
  {
   "cell_type": "code",
   "execution_count": 45,
   "id": "03301fc0",
   "metadata": {},
   "outputs": [
    {
     "data": {
      "text/plain": [
       "29000"
      ]
     },
     "execution_count": 45,
     "metadata": {},
     "output_type": "execute_result"
    }
   ],
   "source": [
    "star_count(star[0].text.strip())"
   ]
  },
  {
   "cell_type": "code",
   "execution_count": 46,
   "id": "b6584df6",
   "metadata": {},
   "outputs": [],
   "source": [
    "## This function regroups the 4 pieces of information collected ,we will use it to generalize and extract data for the rest of repositories\n",
    "\n",
    "def get_repository_info(h3_tag,description_tag,star_tag):\n",
    "    a_tags = h3_tag.find_all('a')\n",
    "    username = a_tags[0].text.strip()\n",
    "    repository_name = a_tags[1].text.strip()\n",
    "    repository_url =  url + a_tags[1]['href']\n",
    "    description=description_tag.text.strip()\n",
    "    stars = star_count(star_tag.text.strip())\n",
    "    return username, repository_name,description, stars, repository_url"
   ]
  },
  {
   "cell_type": "code",
   "execution_count": 47,
   "id": "62bed2b2",
   "metadata": {},
   "outputs": [
    {
     "data": {
      "text/plain": [
       "('CSSEGISandData',\n",
       " 'COVID-19',\n",
       " 'Novel Coronavirus (COVID-19) Cases, provided by JHU CSSE',\n",
       " 29000,\n",
       " 'https://github.com/CSSEGISandData/COVID-19')"
      ]
     },
     "execution_count": 47,
     "metadata": {},
     "output_type": "execute_result"
    }
   ],
   "source": [
    "get_repository_info(repo[0],description[0], star[0])"
   ]
  },
  {
   "cell_type": "code",
   "execution_count": 48,
   "id": "dd429818",
   "metadata": {},
   "outputs": [],
   "source": [
    "## the dictionnary  contains the information extracted from the covid19 web page\n",
    "repositories_dictionnary = {\n",
    "    'username': [],\n",
    "    'repository_name': [],\n",
    "    'descriptions':[],\n",
    "    'stars': [],\n",
    "    'repository_url': []\n",
    "}\n",
    "##this loop will fill the dictionary with the information about the rest of the repositories just like we did for the first repository.\n",
    "\n",
    "\n",
    "\n",
    "for i in range(len(repo)):\n",
    "    repository_info = get_repository_info(repo[i],description[i], star[i])\n",
    "    repositories_dictionnary['username'].append(repository_info[0])\n",
    "    repositories_dictionnary['repository_name'].append(repository_info[1])\n",
    "    repositories_dictionnary['descriptions'].append(repository_info[2])\n",
    "    repositories_dictionnary['stars'].append(repository_info[3])\n",
    "    repositories_dictionnary['repository_url'].append(repository_info[4])"
   ]
  },
  {
   "cell_type": "code",
   "execution_count": 49,
   "id": "208101ba",
   "metadata": {},
   "outputs": [],
   "source": [
    "##we will Construct DataFrame from the dictionary \"repositories_dictionnary\"\n",
    "df1 = pd.DataFrame(repositories_dictionnary)"
   ]
  },
  {
   "cell_type": "code",
   "execution_count": 50,
   "id": "cb646cca",
   "metadata": {},
   "outputs": [
    {
     "data": {
      "text/html": [
       "<div>\n",
       "<style scoped>\n",
       "    .dataframe tbody tr th:only-of-type {\n",
       "        vertical-align: middle;\n",
       "    }\n",
       "\n",
       "    .dataframe tbody tr th {\n",
       "        vertical-align: top;\n",
       "    }\n",
       "\n",
       "    .dataframe thead th {\n",
       "        text-align: right;\n",
       "    }\n",
       "</style>\n",
       "<table border=\"1\" class=\"dataframe\">\n",
       "  <thead>\n",
       "    <tr style=\"text-align: right;\">\n",
       "      <th></th>\n",
       "      <th>username</th>\n",
       "      <th>repository_name</th>\n",
       "      <th>descriptions</th>\n",
       "      <th>stars</th>\n",
       "      <th>repository_url</th>\n",
       "    </tr>\n",
       "  </thead>\n",
       "  <tbody>\n",
       "    <tr>\n",
       "      <th>0</th>\n",
       "      <td>CSSEGISandData</td>\n",
       "      <td>COVID-19</td>\n",
       "      <td>Novel Coronavirus (COVID-19) Cases, provided b...</td>\n",
       "      <td>29000</td>\n",
       "      <td>https://github.com/CSSEGISandData/COVID-19</td>\n",
       "    </tr>\n",
       "    <tr>\n",
       "      <th>1</th>\n",
       "      <td>covid19india</td>\n",
       "      <td>covid19india-react</td>\n",
       "      <td>Tracking the impact of COVID-19 in India</td>\n",
       "      <td>6900</td>\n",
       "      <td>https://github.com/covid19india/covid19india-r...</td>\n",
       "    </tr>\n",
       "    <tr>\n",
       "      <th>2</th>\n",
       "      <td>nytimes</td>\n",
       "      <td>covid-19-data</td>\n",
       "      <td>An ongoing repository of data on coronavirus c...</td>\n",
       "      <td>6900</td>\n",
       "      <td>https://github.com/nytimes/covid-19-data</td>\n",
       "    </tr>\n",
       "    <tr>\n",
       "      <th>3</th>\n",
       "      <td>tokyo-metropolitan-gov</td>\n",
       "      <td>covid19</td>\n",
       "      <td>東京都 新型コロナウイルス感染症対策サイト / Tokyo COVID-19 Task Fo...</td>\n",
       "      <td>6400</td>\n",
       "      <td>https://github.com/tokyo-metropolitan-gov/covid19</td>\n",
       "    </tr>\n",
       "    <tr>\n",
       "      <th>4</th>\n",
       "      <td>owid</td>\n",
       "      <td>covid-19-data</td>\n",
       "      <td>Data on COVID-19 (coronavirus) cases, deaths, ...</td>\n",
       "      <td>5400</td>\n",
       "      <td>https://github.com/owid/covid-19-data</td>\n",
       "    </tr>\n",
       "    <tr>\n",
       "      <th>5</th>\n",
       "      <td>pcm-dpc</td>\n",
       "      <td>COVID-19</td>\n",
       "      <td>COVID-19 Italia - Monitoraggio situazione</td>\n",
       "      <td>3900</td>\n",
       "      <td>https://github.com/pcm-dpc/COVID-19</td>\n",
       "    </tr>\n",
       "    <tr>\n",
       "      <th>6</th>\n",
       "      <td>ieee8023</td>\n",
       "      <td>covid-chestxray-dataset</td>\n",
       "      <td>We are building an open database of COVID-19 c...</td>\n",
       "      <td>2800</td>\n",
       "      <td>https://github.com/ieee8023/covid-chestxray-da...</td>\n",
       "    </tr>\n",
       "    <tr>\n",
       "      <th>7</th>\n",
       "      <td>disease-sh</td>\n",
       "      <td>API</td>\n",
       "      <td>API for Current cases and more stuff about COV...</td>\n",
       "      <td>2400</td>\n",
       "      <td>https://github.com/disease-sh/API</td>\n",
       "    </tr>\n",
       "    <tr>\n",
       "      <th>8</th>\n",
       "      <td>geohot</td>\n",
       "      <td>corona</td>\n",
       "      <td>Reverse engineering SARS-CoV-2</td>\n",
       "      <td>2300</td>\n",
       "      <td>https://github.com/geohot/corona</td>\n",
       "    </tr>\n",
       "    <tr>\n",
       "      <th>9</th>\n",
       "      <td>WorldHealthOrganization</td>\n",
       "      <td>app</td>\n",
       "      <td>COVID-19 App</td>\n",
       "      <td>2100</td>\n",
       "      <td>https://github.com/WorldHealthOrganization/app</td>\n",
       "    </tr>\n",
       "    <tr>\n",
       "      <th>10</th>\n",
       "      <td>corona-warn-app</td>\n",
       "      <td>cwa-server</td>\n",
       "      <td>Backend implementation for the Apple/Google ex...</td>\n",
       "      <td>1900</td>\n",
       "      <td>https://github.com/corona-warn-app/cwa-server</td>\n",
       "    </tr>\n",
       "    <tr>\n",
       "      <th>11</th>\n",
       "      <td>ahmadawais</td>\n",
       "      <td>corona-cli</td>\n",
       "      <td>🦠 Track the Coronavirus disease (COVID-19) in ...</td>\n",
       "      <td>1900</td>\n",
       "      <td>https://github.com/ahmadawais/corona-cli</td>\n",
       "    </tr>\n",
       "    <tr>\n",
       "      <th>12</th>\n",
       "      <td>github</td>\n",
       "      <td>covid19-dashboard</td>\n",
       "      <td>A site that displays up to date COVID-19 stats...</td>\n",
       "      <td>1600</td>\n",
       "      <td>https://github.com/github/covid19-dashboard</td>\n",
       "    </tr>\n",
       "    <tr>\n",
       "      <th>13</th>\n",
       "      <td>ExpDev07</td>\n",
       "      <td>coronavirus-tracker-api</td>\n",
       "      <td>🦠 A simple and fast (&lt; 200ms) API for tracking...</td>\n",
       "      <td>1600</td>\n",
       "      <td>https://github.com/ExpDev07/coronavirus-tracke...</td>\n",
       "    </tr>\n",
       "    <tr>\n",
       "      <th>14</th>\n",
       "      <td>soroushchehresa</td>\n",
       "      <td>awesome-coronavirus</td>\n",
       "      <td>🦠  Huge collection of useful projects and reso...</td>\n",
       "      <td>1500</td>\n",
       "      <td>https://github.com/soroushchehresa/awesome-cor...</td>\n",
       "    </tr>\n",
       "    <tr>\n",
       "      <th>15</th>\n",
       "      <td>mhdhejazi</td>\n",
       "      <td>CoronaTracker</td>\n",
       "      <td>Coronavirus tracker app for iOS &amp; macOS with m...</td>\n",
       "      <td>1500</td>\n",
       "      <td>https://github.com/mhdhejazi/CoronaTracker</td>\n",
       "    </tr>\n",
       "    <tr>\n",
       "      <th>16</th>\n",
       "      <td>neherlab</td>\n",
       "      <td>covid19_scenarios</td>\n",
       "      <td>Models of COVID-19 outbreak trajectories and h...</td>\n",
       "      <td>1400</td>\n",
       "      <td>https://github.com/neherlab/covid19_scenarios</td>\n",
       "    </tr>\n",
       "    <tr>\n",
       "      <th>17</th>\n",
       "      <td>chandrikadeb7</td>\n",
       "      <td>Face-Mask-Detection</td>\n",
       "      <td>Face Mask Detection system based on computer v...</td>\n",
       "      <td>1300</td>\n",
       "      <td>https://github.com/chandrikadeb7/Face-Mask-Det...</td>\n",
       "    </tr>\n",
       "    <tr>\n",
       "      <th>18</th>\n",
       "      <td>covidpass-org</td>\n",
       "      <td>covidpass</td>\n",
       "      <td>Web app for adding EU Digital COVID Certificat...</td>\n",
       "      <td>1200</td>\n",
       "      <td>https://github.com/covidpass-org/covidpass</td>\n",
       "    </tr>\n",
       "    <tr>\n",
       "      <th>19</th>\n",
       "      <td>pomber</td>\n",
       "      <td>covid19</td>\n",
       "      <td>JSON time-series of coronavirus cases (confirm...</td>\n",
       "      <td>1200</td>\n",
       "      <td>https://github.com/pomber/covid19</td>\n",
       "    </tr>\n",
       "  </tbody>\n",
       "</table>\n",
       "</div>"
      ],
      "text/plain": [
       "                   username          repository_name  \\\n",
       "0            CSSEGISandData                 COVID-19   \n",
       "1              covid19india       covid19india-react   \n",
       "2                   nytimes            covid-19-data   \n",
       "3    tokyo-metropolitan-gov                  covid19   \n",
       "4                      owid            covid-19-data   \n",
       "5                   pcm-dpc                 COVID-19   \n",
       "6                  ieee8023  covid-chestxray-dataset   \n",
       "7                disease-sh                      API   \n",
       "8                    geohot                   corona   \n",
       "9   WorldHealthOrganization                      app   \n",
       "10          corona-warn-app               cwa-server   \n",
       "11               ahmadawais               corona-cli   \n",
       "12                   github        covid19-dashboard   \n",
       "13                 ExpDev07  coronavirus-tracker-api   \n",
       "14          soroushchehresa      awesome-coronavirus   \n",
       "15                mhdhejazi            CoronaTracker   \n",
       "16                 neherlab        covid19_scenarios   \n",
       "17            chandrikadeb7      Face-Mask-Detection   \n",
       "18            covidpass-org                covidpass   \n",
       "19                   pomber                  covid19   \n",
       "\n",
       "                                         descriptions  stars  \\\n",
       "0   Novel Coronavirus (COVID-19) Cases, provided b...  29000   \n",
       "1            Tracking the impact of COVID-19 in India   6900   \n",
       "2   An ongoing repository of data on coronavirus c...   6900   \n",
       "3   東京都 新型コロナウイルス感染症対策サイト / Tokyo COVID-19 Task Fo...   6400   \n",
       "4   Data on COVID-19 (coronavirus) cases, deaths, ...   5400   \n",
       "5           COVID-19 Italia - Monitoraggio situazione   3900   \n",
       "6   We are building an open database of COVID-19 c...   2800   \n",
       "7   API for Current cases and more stuff about COV...   2400   \n",
       "8                      Reverse engineering SARS-CoV-2   2300   \n",
       "9                                        COVID-19 App   2100   \n",
       "10  Backend implementation for the Apple/Google ex...   1900   \n",
       "11  🦠 Track the Coronavirus disease (COVID-19) in ...   1900   \n",
       "12  A site that displays up to date COVID-19 stats...   1600   \n",
       "13  🦠 A simple and fast (< 200ms) API for tracking...   1600   \n",
       "14  🦠  Huge collection of useful projects and reso...   1500   \n",
       "15  Coronavirus tracker app for iOS & macOS with m...   1500   \n",
       "16  Models of COVID-19 outbreak trajectories and h...   1400   \n",
       "17  Face Mask Detection system based on computer v...   1300   \n",
       "18  Web app for adding EU Digital COVID Certificat...   1200   \n",
       "19  JSON time-series of coronavirus cases (confirm...   1200   \n",
       "\n",
       "                                       repository_url  \n",
       "0          https://github.com/CSSEGISandData/COVID-19  \n",
       "1   https://github.com/covid19india/covid19india-r...  \n",
       "2            https://github.com/nytimes/covid-19-data  \n",
       "3   https://github.com/tokyo-metropolitan-gov/covid19  \n",
       "4               https://github.com/owid/covid-19-data  \n",
       "5                 https://github.com/pcm-dpc/COVID-19  \n",
       "6   https://github.com/ieee8023/covid-chestxray-da...  \n",
       "7                   https://github.com/disease-sh/API  \n",
       "8                    https://github.com/geohot/corona  \n",
       "9      https://github.com/WorldHealthOrganization/app  \n",
       "10      https://github.com/corona-warn-app/cwa-server  \n",
       "11           https://github.com/ahmadawais/corona-cli  \n",
       "12        https://github.com/github/covid19-dashboard  \n",
       "13  https://github.com/ExpDev07/coronavirus-tracke...  \n",
       "14  https://github.com/soroushchehresa/awesome-cor...  \n",
       "15         https://github.com/mhdhejazi/CoronaTracker  \n",
       "16      https://github.com/neherlab/covid19_scenarios  \n",
       "17  https://github.com/chandrikadeb7/Face-Mask-Det...  \n",
       "18         https://github.com/covidpass-org/covidpass  \n",
       "19                  https://github.com/pomber/covid19  "
      ]
     },
     "execution_count": 50,
     "metadata": {},
     "output_type": "execute_result"
    }
   ],
   "source": [
    "df1"
   ]
  },
  {
   "cell_type": "code",
   "execution_count": 51,
   "id": "e5c3b2c0",
   "metadata": {},
   "outputs": [],
   "source": [
    "##finnaly we export our scraped data to a CSV file\n",
    "df1.to_csv('Covid19_Repositories.csv', index=None)"
   ]
  }
 ],
 "metadata": {
  "kernelspec": {
   "display_name": "Python 3 (ipykernel)",
   "language": "python",
   "name": "python3"
  },
  "language_info": {
   "codemirror_mode": {
    "name": "ipython",
    "version": 3
   },
   "file_extension": ".py",
   "mimetype": "text/x-python",
   "name": "python",
   "nbconvert_exporter": "python",
   "pygments_lexer": "ipython3",
   "version": "3.9.7"
  }
 },
 "nbformat": 4,
 "nbformat_minor": 5
}
